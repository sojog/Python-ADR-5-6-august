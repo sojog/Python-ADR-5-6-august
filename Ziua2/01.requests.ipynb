{
 "cells": [
  {
   "cell_type": "markdown",
   "id": "993d1bcc",
   "metadata": {},
   "source": [
    "# Instalarea in terminal folosind:\n",
    "# pip install requests"
   ]
  },
  {
   "cell_type": "code",
   "execution_count": 6,
   "id": "be202e0e",
   "metadata": {},
   "outputs": [],
   "source": [
    "import requests"
   ]
  },
  {
   "cell_type": "code",
   "execution_count": 7,
   "id": "b6ca647d",
   "metadata": {},
   "outputs": [
    {
     "data": {
      "text/plain": [
       "<Response [200]>"
      ]
     },
     "execution_count": 7,
     "metadata": {},
     "output_type": "execute_result"
    }
   ],
   "source": [
    "URL = \"https://www.bnr.ro/\"\n",
    "\n",
    "response = requests.get(URL)\n",
    "response"
   ]
  },
  {
   "cell_type": "code",
   "execution_count": 8,
   "id": "11844fb4",
   "metadata": {},
   "outputs": [],
   "source": [
    "with open(\"bnr.html\", \"w\") as fwriter:\n",
    "    fwriter.write(response.text)"
   ]
  },
  {
   "cell_type": "code",
   "execution_count": null,
   "id": "6215eec3",
   "metadata": {},
   "outputs": [],
   "source": []
  }
 ],
 "metadata": {
  "kernelspec": {
   "display_name": "Python 3",
   "language": "python",
   "name": "python3"
  },
  "language_info": {
   "codemirror_mode": {
    "name": "ipython",
    "version": 3
   },
   "file_extension": ".py",
   "mimetype": "text/x-python",
   "name": "python",
   "nbconvert_exporter": "python",
   "pygments_lexer": "ipython3",
   "version": "3.13.3"
  }
 },
 "nbformat": 4,
 "nbformat_minor": 5
}
