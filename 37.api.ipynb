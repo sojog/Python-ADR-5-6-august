{
 "cells": [
  {
   "cell_type": "markdown",
   "id": "355f1164",
   "metadata": {},
   "source": [
    "# pip install requests"
   ]
  },
  {
   "cell_type": "code",
   "execution_count": 75,
   "id": "b338ee3d",
   "metadata": {},
   "outputs": [],
   "source": [
    "import requests"
   ]
  },
  {
   "cell_type": "code",
   "execution_count": 76,
   "id": "04550c12",
   "metadata": {},
   "outputs": [
    {
     "data": {
      "text/plain": [
       "<Response [200]>"
      ]
     },
     "execution_count": 76,
     "metadata": {},
     "output_type": "execute_result"
    }
   ],
   "source": [
    "response = requests.get(\"https://api.chucknorris.io/jokes/random\")\n",
    "response"
   ]
  },
  {
   "cell_type": "code",
   "execution_count": 77,
   "id": "9a7ed334",
   "metadata": {},
   "outputs": [
    {
     "data": {
      "text/plain": [
       "200"
      ]
     },
     "execution_count": 77,
     "metadata": {},
     "output_type": "execute_result"
    }
   ],
   "source": [
    "response.status_code"
   ]
  },
  {
   "cell_type": "code",
   "execution_count": 78,
   "id": "13551b95",
   "metadata": {},
   "outputs": [
    {
     "data": {
      "text/plain": [
       "(str,\n",
       " '{\"categories\":[],\"created_at\":\"2020-01-05 13:42:22.701402\",\"icon_url\":\"https://api.chucknorris.io/img/avatar/chuck-norris.png\",\"id\":\"eQ3KB1NjQbardvupvhmYTw\",\"updated_at\":\"2020-01-05 13:42:22.701402\",\"url\":\"https://api.chucknorris.io/jokes/eQ3KB1NjQbardvupvhmYTw\",\"value\":\"Vampires walk at night not because of the sun, but becuase Chuck Norris walks in the day.\"}')"
      ]
     },
     "execution_count": 78,
     "metadata": {},
     "output_type": "execute_result"
    }
   ],
   "source": [
    "type(response.text),  response.text"
   ]
  },
  {
   "cell_type": "code",
   "execution_count": 79,
   "id": "ec6072d8",
   "metadata": {},
   "outputs": [
    {
     "data": {
      "text/plain": [
       "(dict,\n",
       " {'categories': [],\n",
       "  'created_at': '2020-01-05 13:42:22.701402',\n",
       "  'icon_url': 'https://api.chucknorris.io/img/avatar/chuck-norris.png',\n",
       "  'id': 'eQ3KB1NjQbardvupvhmYTw',\n",
       "  'updated_at': '2020-01-05 13:42:22.701402',\n",
       "  'url': 'https://api.chucknorris.io/jokes/eQ3KB1NjQbardvupvhmYTw',\n",
       "  'value': 'Vampires walk at night not because of the sun, but becuase Chuck Norris walks in the day.'})"
      ]
     },
     "execution_count": 79,
     "metadata": {},
     "output_type": "execute_result"
    }
   ],
   "source": [
    "type(response.json()), response.json()"
   ]
  },
  {
   "cell_type": "code",
   "execution_count": 80,
   "id": "75e05e8c",
   "metadata": {},
   "outputs": [],
   "source": [
    "reponse_dict = response.json()"
   ]
  },
  {
   "cell_type": "code",
   "execution_count": 81,
   "id": "52dbff08",
   "metadata": {},
   "outputs": [
    {
     "data": {
      "text/plain": [
       "'Vampires walk at night not because of the sun, but becuase Chuck Norris walks in the day.'"
      ]
     },
     "execution_count": 81,
     "metadata": {},
     "output_type": "execute_result"
    }
   ],
   "source": [
    "gluma = reponse_dict['value']\n",
    "gluma"
   ]
  },
  {
   "cell_type": "code",
   "execution_count": 82,
   "id": "e6ee7497",
   "metadata": {},
   "outputs": [],
   "source": [
    "with open(\"glume.txt\", \"a\") as fwriter:\n",
    "    fwriter.write(gluma)\n",
    "    fwriter.write(\"\\n\")"
   ]
  }
 ],
 "metadata": {
  "kernelspec": {
   "display_name": "Python 3",
   "language": "python",
   "name": "python3"
  },
  "language_info": {
   "codemirror_mode": {
    "name": "ipython",
    "version": 3
   },
   "file_extension": ".py",
   "mimetype": "text/x-python",
   "name": "python",
   "nbconvert_exporter": "python",
   "pygments_lexer": "ipython3",
   "version": "3.13.3"
  }
 },
 "nbformat": 4,
 "nbformat_minor": 5
}
