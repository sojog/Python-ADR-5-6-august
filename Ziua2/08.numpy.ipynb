{
 "cells": [
  {
   "cell_type": "markdown",
   "id": "c53a209f",
   "metadata": {},
   "source": [
    "# Numpy -> numerical python"
   ]
  },
  {
   "cell_type": "markdown",
   "id": "24f8fe1a",
   "metadata": {},
   "source": [
    "# pip install numpy"
   ]
  },
  {
   "cell_type": "code",
   "execution_count": 1,
   "id": "cc45579d",
   "metadata": {},
   "outputs": [],
   "source": [
    "import numpy as np"
   ]
  },
  {
   "cell_type": "code",
   "execution_count": 3,
   "id": "400b12d5",
   "metadata": {},
   "outputs": [
    {
     "name": "stdout",
     "output_type": "stream",
     "text": [
      "\n",
      "NumPy\n",
      "=====\n",
      "\n",
      "Provides\n",
      "  1. An array object of arbitrary homogeneous items\n",
      "  2. Fast mathematical operations over arrays\n",
      "  3. Linear Algebra, Fourier Transforms, Random Number Generation\n",
      "\n",
      "How to use the documentation\n",
      "----------------------------\n",
      "Documentation is available in two forms: docstrings provided\n",
      "with the code, and a loose standing reference guide, available from\n",
      "`the NumPy homepage <https://numpy.org>`_.\n",
      "\n",
      "We recommend exploring the docstrings using\n",
      "`IPython <https://ipython.org>`_, an advanced Python shell with\n",
      "TAB-completion and introspection capabilities.  See below for further\n",
      "instructions.\n",
      "\n",
      "The docstring examples assume that `numpy` has been imported as ``np``::\n",
      "\n",
      "  >>> import numpy as np\n",
      "\n",
      "Code snippets are indicated by three greater-than signs::\n",
      "\n",
      "  >>> x = 42\n",
      "  >>> x = x + 1\n",
      "\n",
      "Use the built-in ``help`` function to view a function's docstring::\n",
      "\n",
      "  >>> help(np.sort)\n",
      "  ... # doctest: +SKIP\n",
      "\n",
      "For some objects, ``np.info(obj)`` may provide additional help.  This is\n",
      "particularly true if you see the line \"Help on ufunc object:\" at the top\n",
      "of the help() page.  Ufuncs are implemented in C, not Python, for speed.\n",
      "The native Python help() does not know how to view their help, but our\n",
      "np.info() function does.\n",
      "\n",
      "Available subpackages\n",
      "---------------------\n",
      "lib\n",
      "    Basic functions used by several sub-packages.\n",
      "random\n",
      "    Core Random Tools\n",
      "linalg\n",
      "    Core Linear Algebra Tools\n",
      "fft\n",
      "    Core FFT routines\n",
      "polynomial\n",
      "    Polynomial tools\n",
      "testing\n",
      "    NumPy testing tools\n",
      "distutils\n",
      "    Enhancements to distutils with support for\n",
      "    Fortran compilers support and more (for Python <= 3.11)\n",
      "\n",
      "Utilities\n",
      "---------\n",
      "test\n",
      "    Run numpy unittests\n",
      "show_config\n",
      "    Show numpy build configuration\n",
      "__version__\n",
      "    NumPy version string\n",
      "\n",
      "Viewing documentation using IPython\n",
      "-----------------------------------\n",
      "\n",
      "Start IPython and import `numpy` usually under the alias ``np``: `import\n",
      "numpy as np`.  Then, directly past or use the ``%cpaste`` magic to paste\n",
      "examples into the shell.  To see which functions are available in `numpy`,\n",
      "type ``np.<TAB>`` (where ``<TAB>`` refers to the TAB key), or use\n",
      "``np.*cos*?<ENTER>`` (where ``<ENTER>`` refers to the ENTER key) to narrow\n",
      "down the list.  To view the docstring for a function, use\n",
      "``np.cos?<ENTER>`` (to view the docstring) and ``np.cos??<ENTER>`` (to view\n",
      "the source code).\n",
      "\n",
      "Copies vs. in-place operation\n",
      "-----------------------------\n",
      "Most of the functions in `numpy` return a copy of the array argument\n",
      "(e.g., `np.sort`).  In-place versions of these functions are often\n",
      "available as array methods, i.e. ``x = np.array([1,2,3]); x.sort()``.\n",
      "Exceptions to this rule are documented.\n",
      "\n",
      "\n"
     ]
    }
   ],
   "source": [
    "print(np.__doc__)"
   ]
  },
  {
   "cell_type": "code",
   "execution_count": 4,
   "id": "6ebda795",
   "metadata": {},
   "outputs": [
    {
     "data": {
      "text/plain": [
       "array([1, 2, 3, 4, 5, 6])"
      ]
     },
     "execution_count": 4,
     "metadata": {},
     "output_type": "execute_result"
    }
   ],
   "source": [
    "np.array([1, 2, 3, 4, 5, 6])"
   ]
  },
  {
   "cell_type": "code",
   "execution_count": 6,
   "id": "26f72735",
   "metadata": {},
   "outputs": [
    {
     "data": {
      "text/plain": [
       "(array([1, 2, 3, 4, 5, 6]), numpy.ndarray, dtype('int64'))"
      ]
     },
     "execution_count": 6,
     "metadata": {},
     "output_type": "execute_result"
    }
   ],
   "source": [
    "array = np.array([1, 2, 3, 4, 5, 6])\n",
    "array, type(array), array.dtype"
   ]
  },
  {
   "cell_type": "code",
   "execution_count": 7,
   "id": "2a99e1a5",
   "metadata": {},
   "outputs": [
    {
     "data": {
      "text/plain": [
       "(array([1. , 2. , 3. , 4. , 5. , 6.4]), numpy.ndarray, dtype('float64'))"
      ]
     },
     "execution_count": 7,
     "metadata": {},
     "output_type": "execute_result"
    }
   ],
   "source": [
    "array = np.array([1, 2, 3, 4, 5, 6.4])\n",
    "array, type(array), array.dtype"
   ]
  },
  {
   "cell_type": "code",
   "execution_count": 8,
   "id": "004e3e25",
   "metadata": {},
   "outputs": [
    {
     "data": {
      "text/plain": [
       "(array(['1', '2', '3', '4', '5', 'hello'], dtype='<U21'),\n",
       " numpy.ndarray,\n",
       " dtype('<U21'))"
      ]
     },
     "execution_count": 8,
     "metadata": {},
     "output_type": "execute_result"
    }
   ],
   "source": [
    "array = np.array([1, 2, 3, 4, 5, \"hello\"])\n",
    "array, type(array), array.dtype"
   ]
  },
  {
   "cell_type": "code",
   "execution_count": 13,
   "id": "0c084726",
   "metadata": {},
   "outputs": [
    {
     "data": {
      "text/plain": [
       "(array([[1, 2, 3],\n",
       "        [4, 5, 6]]),\n",
       " (2, 3))"
      ]
     },
     "execution_count": 13,
     "metadata": {},
     "output_type": "execute_result"
    }
   ],
   "source": [
    "array = np.array([ [1, 2, 3], [4, 5, 6]])\n",
    "array, array.shape"
   ]
  },
  {
   "cell_type": "code",
   "execution_count": 14,
   "id": "b6048fb7",
   "metadata": {},
   "outputs": [
    {
     "data": {
      "text/plain": [
       "(array([[1, 2, 3],\n",
       "        [4, 5, 6]]),\n",
       " array([[1, 2],\n",
       "        [3, 4],\n",
       "        [5, 6]]))"
      ]
     },
     "execution_count": 14,
     "metadata": {},
     "output_type": "execute_result"
    }
   ],
   "source": [
    "array = np.array([ [1, 2, 3], [4, 5, 6]])\n",
    "array, array.reshape(3, 2)"
   ]
  },
  {
   "cell_type": "code",
   "execution_count": 15,
   "id": "87a9ba8d",
   "metadata": {},
   "outputs": [
    {
     "data": {
      "text/plain": [
       "array([0, 1, 2, 3, 4, 5, 6, 7, 8, 9])"
      ]
     },
     "execution_count": 15,
     "metadata": {},
     "output_type": "execute_result"
    }
   ],
   "source": [
    "array = np.array(range(10))\n",
    "array"
   ]
  },
  {
   "cell_type": "code",
   "execution_count": 16,
   "id": "06ae4905",
   "metadata": {},
   "outputs": [
    {
     "data": {
      "text/plain": [
       "array([0, 1, 2, 3, 4, 5, 6, 7, 8, 9])"
      ]
     },
     "execution_count": 16,
     "metadata": {},
     "output_type": "execute_result"
    }
   ],
   "source": [
    "array = np.arange(10)\n",
    "array"
   ]
  },
  {
   "cell_type": "code",
   "execution_count": 17,
   "id": "272f1260",
   "metadata": {},
   "outputs": [
    {
     "data": {
      "text/plain": [
       "array([ 3,  4,  5,  6,  7,  8,  9, 10, 11, 12])"
      ]
     },
     "execution_count": 17,
     "metadata": {},
     "output_type": "execute_result"
    }
   ],
   "source": [
    "array = np.arange(10)\n",
    "array + 3"
   ]
  },
  {
   "cell_type": "code",
   "execution_count": 18,
   "id": "c97db89a",
   "metadata": {},
   "outputs": [
    {
     "data": {
      "text/plain": [
       "array([ 0,  1,  4,  9, 16, 25, 36, 49, 64, 81])"
      ]
     },
     "execution_count": 18,
     "metadata": {},
     "output_type": "execute_result"
    }
   ],
   "source": [
    "array = np.arange(10)\n",
    "array ** 2"
   ]
  },
  {
   "cell_type": "code",
   "execution_count": 19,
   "id": "f0de3073",
   "metadata": {},
   "outputs": [
    {
     "data": {
      "text/plain": [
       "array([30, 40, 50])"
      ]
     },
     "execution_count": 19,
     "metadata": {},
     "output_type": "execute_result"
    }
   ],
   "source": [
    "array1 = np.array([20, 30, 40])\n",
    "array2 = np.array([10, 10, 10])\n",
    "array1 + array2\n"
   ]
  },
  {
   "cell_type": "code",
   "execution_count": 20,
   "id": "da54ce29",
   "metadata": {},
   "outputs": [
    {
     "data": {
      "text/plain": [
       "array([10, 20, 30])"
      ]
     },
     "execution_count": 20,
     "metadata": {},
     "output_type": "execute_result"
    }
   ],
   "source": [
    "array1 = np.array([20, 30, 40])\n",
    "array2 = np.array([10, 10, 10])\n",
    "array1 - array2"
   ]
  },
  {
   "cell_type": "code",
   "execution_count": 21,
   "id": "1101e1d6",
   "metadata": {},
   "outputs": [
    {
     "data": {
      "text/plain": [
       "array([200, 300, 400])"
      ]
     },
     "execution_count": 21,
     "metadata": {},
     "output_type": "execute_result"
    }
   ],
   "source": [
    "array1 = np.array([20, 30, 40])\n",
    "array2 = np.array([10, 10, 10])\n",
    "array1 * array2"
   ]
  },
  {
   "cell_type": "code",
   "execution_count": 22,
   "id": "cd3f3648",
   "metadata": {},
   "outputs": [
    {
     "data": {
      "text/plain": [
       "0.22315658010155304"
      ]
     },
     "execution_count": 22,
     "metadata": {},
     "output_type": "execute_result"
    }
   ],
   "source": [
    "np.random.random()"
   ]
  },
  {
   "cell_type": "code",
   "execution_count": 23,
   "id": "0b5bf668",
   "metadata": {},
   "outputs": [
    {
     "data": {
      "text/plain": [
       "0.6222066683941936"
      ]
     },
     "execution_count": 23,
     "metadata": {},
     "output_type": "execute_result"
    }
   ],
   "source": [
    "np.random.random()"
   ]
  },
  {
   "cell_type": "code",
   "execution_count": 24,
   "id": "db719ae9",
   "metadata": {},
   "outputs": [
    {
     "data": {
      "text/plain": [
       "array([0.19711394, 0.05338843, 0.26116011, 0.99677115, 0.37106295])"
      ]
     },
     "execution_count": 24,
     "metadata": {},
     "output_type": "execute_result"
    }
   ],
   "source": [
    "np.random.random(5)"
   ]
  },
  {
   "cell_type": "code",
   "execution_count": 25,
   "id": "7831b7c1",
   "metadata": {},
   "outputs": [
    {
     "data": {
      "text/plain": [
       "array([91, 32, 12, 49, 82])"
      ]
     },
     "execution_count": 25,
     "metadata": {},
     "output_type": "execute_result"
    }
   ],
   "source": [
    "np.random.randint(1, 100, 5)"
   ]
  },
  {
   "cell_type": "code",
   "execution_count": 33,
   "id": "0fccd590",
   "metadata": {},
   "outputs": [
    {
     "data": {
      "text/plain": [
       "array([68, 45, 21, 76, 70])"
      ]
     },
     "execution_count": 33,
     "metadata": {},
     "output_type": "execute_result"
    }
   ],
   "source": [
    "np.random.randint(1, 100, 5)"
   ]
  },
  {
   "cell_type": "code",
   "execution_count": 35,
   "id": "dafd6927",
   "metadata": {},
   "outputs": [
    {
     "data": {
      "text/plain": [
       "array([62, 97, 97, 30, 82, 61, 71, 31, 64, 26, 44, 45, 56, 19, 81, 51, 11,\n",
       "       86, 76, 98, 88, 72, 52, 22, 24, 73, 22, 44, 70, 41])"
      ]
     },
     "execution_count": 35,
     "metadata": {},
     "output_type": "execute_result"
    }
   ],
   "source": [
    "array = np.random.randint(1, 100, 30)\n",
    "array"
   ]
  },
  {
   "cell_type": "code",
   "execution_count": 36,
   "id": "b5c66701",
   "metadata": {},
   "outputs": [
    {
     "data": {
      "text/plain": [
       "array([ 12,  47,  47, -20,  32,  11,  21, -19,  14, -24,  -6,  -5,   6,\n",
       "       -31,  31,   1, -39,  36,  26,  48,  38,  22,   2, -28, -26,  23,\n",
       "       -28,  -6,  20,  -9])"
      ]
     },
     "execution_count": 36,
     "metadata": {},
     "output_type": "execute_result"
    }
   ],
   "source": [
    "array - 50"
   ]
  },
  {
   "cell_type": "code",
   "execution_count": 37,
   "id": "69894c60",
   "metadata": {},
   "outputs": [
    {
     "data": {
      "text/plain": [
       "array([124, 194, 194,  60, 164, 122, 142,  62, 128,  52,  88,  90, 112,\n",
       "        38, 162, 102,  22, 172, 152, 196, 176, 144, 104,  44,  48, 146,\n",
       "        44,  88, 140,  82])"
      ]
     },
     "execution_count": 37,
     "metadata": {},
     "output_type": "execute_result"
    }
   ],
   "source": [
    "array + array"
   ]
  },
  {
   "cell_type": "code",
   "execution_count": 38,
   "id": "36b768c1",
   "metadata": {},
   "outputs": [
    {
     "data": {
      "text/plain": [
       "array([62, 97, 97, 30, 82, 61, 71, 31, 64, 26, 44, 45, 56, 19, 81, 51, 11,\n",
       "       86, 76, 98, 88, 72, 52, 22, 24, 73, 22, 44, 70, 41])"
      ]
     },
     "execution_count": 38,
     "metadata": {},
     "output_type": "execute_result"
    }
   ],
   "source": [
    "array "
   ]
  },
  {
   "cell_type": "code",
   "execution_count": 39,
   "id": "46324cc3",
   "metadata": {},
   "outputs": [
    {
     "data": {
      "text/plain": [
       "array([ True,  True,  True, False,  True,  True,  True, False,  True,\n",
       "       False, False, False,  True, False,  True,  True, False,  True,\n",
       "        True,  True,  True,  True,  True, False, False,  True, False,\n",
       "       False,  True, False])"
      ]
     },
     "execution_count": 39,
     "metadata": {},
     "output_type": "execute_result"
    }
   ],
   "source": [
    "array > 50"
   ]
  },
  {
   "cell_type": "code",
   "execution_count": 40,
   "id": "e679979b",
   "metadata": {},
   "outputs": [
    {
     "data": {
      "text/plain": [
       "array([62, 97, 97, 30, 82, 61, 71, 31, 64, 26, 44, 45, 56, 19, 81, 51, 11,\n",
       "       86, 76, 98, 88, 72, 52, 22, 24, 73, 22, 44, 70, 41])"
      ]
     },
     "execution_count": 40,
     "metadata": {},
     "output_type": "execute_result"
    }
   ],
   "source": [
    "array"
   ]
  },
  {
   "cell_type": "code",
   "execution_count": 42,
   "id": "d961a9a2",
   "metadata": {},
   "outputs": [
    {
     "data": {
      "text/plain": [
       "(np.int64(62), np.int64(31))"
      ]
     },
     "execution_count": 42,
     "metadata": {},
     "output_type": "execute_result"
    }
   ],
   "source": [
    "array[0], array[7]"
   ]
  },
  {
   "cell_type": "code",
   "execution_count": 43,
   "id": "51e9079b",
   "metadata": {},
   "outputs": [
    {
     "data": {
      "text/plain": [
       "array([62, 97, 97, 30, 82, 61, 71])"
      ]
     },
     "execution_count": 43,
     "metadata": {},
     "output_type": "execute_result"
    }
   ],
   "source": [
    "array[0:7]"
   ]
  },
  {
   "cell_type": "code",
   "execution_count": 44,
   "id": "332357ca",
   "metadata": {},
   "outputs": [
    {
     "data": {
      "text/plain": [
       "array([62, 97, 97, 82, 61, 71, 64, 56, 81, 51, 86, 76, 98, 88, 72, 52, 73,\n",
       "       70])"
      ]
     },
     "execution_count": 44,
     "metadata": {},
     "output_type": "execute_result"
    }
   ],
   "source": [
    "array[array > 50]"
   ]
  },
  {
   "cell_type": "code",
   "execution_count": 45,
   "id": "16f42052",
   "metadata": {},
   "outputs": [
    {
     "data": {
      "text/plain": [
       "array([30, 31, 26, 44, 45, 19, 11, 22, 24, 22, 44, 41])"
      ]
     },
     "execution_count": 45,
     "metadata": {},
     "output_type": "execute_result"
    }
   ],
   "source": [
    "array[array < 50]"
   ]
  },
  {
   "cell_type": "code",
   "execution_count": 46,
   "id": "16a953f6",
   "metadata": {},
   "outputs": [
    {
     "data": {
      "text/plain": [
       "array([30, 31, 26, 44, 45, 44, 41])"
      ]
     },
     "execution_count": 46,
     "metadata": {},
     "output_type": "execute_result"
    }
   ],
   "source": [
    "array[(array < 50) & (array > 25)]"
   ]
  },
  {
   "cell_type": "code",
   "execution_count": 47,
   "id": "3fbc6830",
   "metadata": {},
   "outputs": [
    {
     "data": {
      "text/plain": [
       "array([62, 97, 97, 82, 61, 71, 64, 56, 19, 81, 51, 11, 86, 76, 98, 88, 72,\n",
       "       52, 22, 24, 73, 22, 70])"
      ]
     },
     "execution_count": 47,
     "metadata": {},
     "output_type": "execute_result"
    }
   ],
   "source": [
    "array[(array > 50) | (array < 25)]"
   ]
  },
  {
   "cell_type": "code",
   "execution_count": 48,
   "id": "c3a3c0f7",
   "metadata": {},
   "outputs": [
    {
     "data": {
      "text/plain": [
       "array([ True,  True,  True, False,  True,  True,  True, False,  True,\n",
       "       False, False, False,  True, False,  True,  True, False,  True,\n",
       "        True,  True,  True,  True,  True, False, False,  True, False,\n",
       "       False,  True, False])"
      ]
     },
     "execution_count": 48,
     "metadata": {},
     "output_type": "execute_result"
    }
   ],
   "source": [
    "(array > 50)"
   ]
  },
  {
   "cell_type": "code",
   "execution_count": null,
   "id": "00654084",
   "metadata": {},
   "outputs": [],
   "source": []
  }
 ],
 "metadata": {
  "kernelspec": {
   "display_name": "Python 3",
   "language": "python",
   "name": "python3"
  },
  "language_info": {
   "codemirror_mode": {
    "name": "ipython",
    "version": 3
   },
   "file_extension": ".py",
   "mimetype": "text/x-python",
   "name": "python",
   "nbconvert_exporter": "python",
   "pygments_lexer": "ipython3",
   "version": "3.13.3"
  }
 },
 "nbformat": 4,
 "nbformat_minor": 5
}
