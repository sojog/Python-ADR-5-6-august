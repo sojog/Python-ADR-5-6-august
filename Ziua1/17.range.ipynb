{
 "cells": [
  {
   "cell_type": "code",
   "execution_count": 2,
   "id": "23d0f956",
   "metadata": {},
   "outputs": [
    {
     "name": "stdout",
     "output_type": "stream",
     "text": [
      "i= 0 <class 'int'>\n",
      "i= 1 <class 'int'>\n",
      "i= 2 <class 'int'>\n",
      "i= 3 <class 'int'>\n"
     ]
    }
   ],
   "source": [
    "for i in range(4):\n",
    "    print(\"i=\", i, type(i))"
   ]
  },
  {
   "cell_type": "code",
   "execution_count": null,
   "id": "de498283",
   "metadata": {},
   "outputs": [
    {
     "name": "stdout",
     "output_type": "stream",
     "text": [
      "i= 2 <class 'int'>\n",
      "i= 3 <class 'int'>\n"
     ]
    }
   ],
   "source": [
    "for i in range(2, 4):\n",
    "    print(\"i=\", i, type(i))"
   ]
  },
  {
   "cell_type": "code",
   "execution_count": 4,
   "id": "da322dca",
   "metadata": {},
   "outputs": [],
   "source": [
    "for i in range(4, 2):\n",
    "    print(\"i=\", i, type(i))"
   ]
  },
  {
   "cell_type": "code",
   "execution_count": 5,
   "id": "ba1c9369",
   "metadata": {},
   "outputs": [
    {
     "data": {
      "text/plain": [
       "[]"
      ]
     },
     "execution_count": 5,
     "metadata": {},
     "output_type": "execute_result"
    }
   ],
   "source": [
    "list(range(4, 2))"
   ]
  },
  {
   "cell_type": "code",
   "execution_count": 6,
   "id": "d855cc7d",
   "metadata": {},
   "outputs": [
    {
     "name": "stdout",
     "output_type": "stream",
     "text": [
      "i= 4 <class 'int'>\n",
      "i= 3 <class 'int'>\n"
     ]
    }
   ],
   "source": [
    "for i in range(4, 2, -1):\n",
    "    print(\"i=\", i, type(i))"
   ]
  },
  {
   "cell_type": "code",
   "execution_count": 8,
   "id": "c8814090",
   "metadata": {},
   "outputs": [
    {
     "name": "stdout",
     "output_type": "stream",
     "text": [
      "i= 40 <class 'int'>\n",
      "i= 35 <class 'int'>\n",
      "i= 30 <class 'int'>\n",
      "i= 25 <class 'int'>\n"
     ]
    }
   ],
   "source": [
    "for i in range(40, 20, -5):\n",
    "    print(\"i=\", i, type(i))"
   ]
  },
  {
   "cell_type": "code",
   "execution_count": 9,
   "id": "85add20f",
   "metadata": {},
   "outputs": [
    {
     "name": "stdout",
     "output_type": "stream",
     "text": [
      "i= 0 <class 'int'>\n",
      "i= 3 <class 'int'>\n",
      "i= 6 <class 'int'>\n",
      "i= 9 <class 'int'>\n",
      "i= 12 <class 'int'>\n",
      "i= 15 <class 'int'>\n",
      "i= 18 <class 'int'>\n"
     ]
    }
   ],
   "source": [
    "for i in range(0, 20, 3):\n",
    "    print(\"i=\", i, type(i))"
   ]
  },
  {
   "cell_type": "code",
   "execution_count": 10,
   "id": "ecf3f54e",
   "metadata": {},
   "outputs": [
    {
     "name": "stdout",
     "output_type": "stream",
     "text": [
      "Salutare!!!\n",
      "Salutare!!!\n",
      "Salutare!!!\n"
     ]
    }
   ],
   "source": [
    "for i in range(3):\n",
    "    print(\"Salutare!!!\")"
   ]
  },
  {
   "cell_type": "code",
   "execution_count": 11,
   "id": "ee5372a4",
   "metadata": {},
   "outputs": [
    {
     "name": "stdout",
     "output_type": "stream",
     "text": [
      "333\n",
      "444\n",
      "555\n"
     ]
    }
   ],
   "source": [
    "lista = [333, 444, 555]\n",
    "for i in lista:\n",
    "    print(i)"
   ]
  },
  {
   "cell_type": "code",
   "execution_count": 13,
   "id": "ff79a964",
   "metadata": {},
   "outputs": [
    {
     "name": "stdout",
     "output_type": "stream",
     "text": [
      "0\n",
      "1\n",
      "2\n"
     ]
    }
   ],
   "source": [
    "lista = [333, 444, 555, 666]\n",
    "for i in range(3):\n",
    "    print(i)"
   ]
  },
  {
   "cell_type": "code",
   "execution_count": 14,
   "id": "b6a2f152",
   "metadata": {},
   "outputs": [
    {
     "name": "stdout",
     "output_type": "stream",
     "text": [
      "0\n",
      "1\n",
      "2\n",
      "3\n"
     ]
    }
   ],
   "source": [
    "lista = [333, 444, 555, 666]\n",
    "for i in range(len(lista)):\n",
    "    print(i)"
   ]
  },
  {
   "cell_type": "code",
   "execution_count": null,
   "id": "cecc0e1b",
   "metadata": {},
   "outputs": [],
   "source": []
  }
 ],
 "metadata": {
  "kernelspec": {
   "display_name": "Python 3",
   "language": "python",
   "name": "python3"
  },
  "language_info": {
   "codemirror_mode": {
    "name": "ipython",
    "version": 3
   },
   "file_extension": ".py",
   "mimetype": "text/x-python",
   "name": "python",
   "nbconvert_exporter": "python",
   "pygments_lexer": "ipython3",
   "version": "3.13.3"
  }
 },
 "nbformat": 4,
 "nbformat_minor": 5
}
