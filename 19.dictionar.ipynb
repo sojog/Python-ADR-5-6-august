{
 "cells": [
  {
   "cell_type": "code",
   "execution_count": 2,
   "id": "53a94e69",
   "metadata": {},
   "outputs": [
    {
     "data": {
      "text/plain": [
       "(dict, {})"
      ]
     },
     "execution_count": 2,
     "metadata": {},
     "output_type": "execute_result"
    }
   ],
   "source": [
    "dictionar = { }\n",
    "type(dictionar), dictionar"
   ]
  },
  {
   "cell_type": "code",
   "execution_count": 3,
   "id": "cbe560f6",
   "metadata": {},
   "outputs": [
    {
     "data": {
      "text/plain": [
       "{'albastru': 'cer', 'rosu': 'sange', 'transparent': 'apa'}"
      ]
     },
     "execution_count": 3,
     "metadata": {},
     "output_type": "execute_result"
    }
   ],
   "source": [
    "dictionar = { \"albastru\":  \"cer\", \"rosu\": \"sange\", \"transparent\": \"apa\"}\n",
    "dictionar"
   ]
  },
  {
   "cell_type": "code",
   "execution_count": 5,
   "id": "f10a085b",
   "metadata": {},
   "outputs": [
    {
     "data": {
      "text/plain": [
       "4"
      ]
     },
     "execution_count": 5,
     "metadata": {},
     "output_type": "execute_result"
    }
   ],
   "source": [
    "dictionar = { \"albastru\":  \"cer\", \"rosu\": \"sange\", \"transparent\": \"apa\", \"cheie\":\"valoarea\"}\n",
    "len(dictionar)"
   ]
  },
  {
   "cell_type": "code",
   "execution_count": 7,
   "id": "5a6b9b6c",
   "metadata": {},
   "outputs": [
    {
     "data": {
      "text/plain": [
       "('valoarea', 'cer')"
      ]
     },
     "execution_count": 7,
     "metadata": {},
     "output_type": "execute_result"
    }
   ],
   "source": [
    "dictionar[\"cheie\"], dictionar[\"albastru\"]"
   ]
  },
  {
   "cell_type": "code",
   "execution_count": 10,
   "id": "a845879b",
   "metadata": {},
   "outputs": [
    {
     "name": "stdout",
     "output_type": "stream",
     "text": [
      "i= albastru valoare: cer\n",
      "i= rosu valoare: sange\n",
      "i= transparent valoare: apa\n",
      "i= cheie valoare: valoarea\n"
     ]
    }
   ],
   "source": [
    "for i in dictionar:\n",
    "    print(\"i=\", i, \"valoare:\", dictionar[i])"
   ]
  },
  {
   "cell_type": "code",
   "execution_count": 11,
   "id": "50dd893f",
   "metadata": {},
   "outputs": [
    {
     "data": {
      "text/plain": [
       "5"
      ]
     },
     "execution_count": 11,
     "metadata": {},
     "output_type": "execute_result"
    }
   ],
   "source": [
    "dictionar = { \"albastru\":  \"cer\", \"rosu\": \"sange\", \"transparent\": \"apa\", \"cheie\":\"valoarea\", 10:\"nota\"}\n",
    "len(dictionar)"
   ]
  },
  {
   "cell_type": "code",
   "execution_count": null,
   "id": "f007eabb",
   "metadata": {},
   "outputs": [
    {
     "data": {
      "text/plain": [
       "'nota'"
      ]
     },
     "execution_count": 12,
     "metadata": {},
     "output_type": "execute_result"
    }
   ],
   "source": [
    "dictionar[10]"
   ]
  },
  {
   "cell_type": "code",
   "execution_count": 13,
   "id": "83d174b3",
   "metadata": {},
   "outputs": [
    {
     "data": {
      "text/plain": [
       "{'albastru': 'cer',\n",
       " 'rosu': 'sange',\n",
       " 'transparent': 'apa',\n",
       " 'cheie': 'valoarea',\n",
       " 10: 'nota',\n",
       " 11: 'extraordinar'}"
      ]
     },
     "execution_count": 13,
     "metadata": {},
     "output_type": "execute_result"
    }
   ],
   "source": [
    "dictionar[11] = \"extraordinar\"\n",
    "dictionar"
   ]
  },
  {
   "cell_type": "code",
   "execution_count": null,
   "id": "1e419c56",
   "metadata": {},
   "outputs": [],
   "source": []
  }
 ],
 "metadata": {
  "kernelspec": {
   "display_name": "Python 3",
   "language": "python",
   "name": "python3"
  },
  "language_info": {
   "codemirror_mode": {
    "name": "ipython",
    "version": 3
   },
   "file_extension": ".py",
   "mimetype": "text/x-python",
   "name": "python",
   "nbconvert_exporter": "python",
   "pygments_lexer": "ipython3",
   "version": "3.13.3"
  }
 },
 "nbformat": 4,
 "nbformat_minor": 5
}
