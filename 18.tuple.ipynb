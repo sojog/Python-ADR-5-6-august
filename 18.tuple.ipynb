{
 "cells": [
  {
   "cell_type": "code",
   "execution_count": 1,
   "id": "b5c73939",
   "metadata": {},
   "outputs": [
    {
     "name": "stdout",
     "output_type": "stream",
     "text": [
      "(1, 2, 3, 4, 5, 6, 7, 8, 9, 10) <class 'tuple'>\n"
     ]
    }
   ],
   "source": [
    "\n",
    "colectie = (1, 2, 3, 4, 5, 6, 7, 8, 9, 10)\n",
    "print(colectie, type(colectie)) \n",
    "\n"
   ]
  },
  {
   "cell_type": "code",
   "execution_count": 2,
   "id": "b2bafe38",
   "metadata": {},
   "outputs": [
    {
     "name": "stdout",
     "output_type": "stream",
     "text": [
      "10\n"
     ]
    }
   ],
   "source": [
    "colectie = (1, 2, 3, 4, 5, 6, 7, 8, 9, 10)\n",
    "print(len(colectie)) "
   ]
  },
  {
   "cell_type": "code",
   "execution_count": null,
   "id": "fee5c8ef",
   "metadata": {},
   "outputs": [
    {
     "name": "stdout",
     "output_type": "stream",
     "text": [
      "1 10\n"
     ]
    }
   ],
   "source": [
    "colectie = (1, 2, 3, 4, 5, 6, 7, 8, 9, 10)\n",
    "print(colectie[0], colectie[9] ) "
   ]
  },
  {
   "cell_type": "code",
   "execution_count": 5,
   "id": "9ded37e2",
   "metadata": {},
   "outputs": [
    {
     "ename": "AttributeError",
     "evalue": "'tuple' object has no attribute 'append'",
     "output_type": "error",
     "traceback": [
      "\u001b[31m---------------------------------------------------------------------------\u001b[39m",
      "\u001b[31mAttributeError\u001b[39m                            Traceback (most recent call last)",
      "\u001b[36mCell\u001b[39m\u001b[36m \u001b[39m\u001b[32mIn[5]\u001b[39m\u001b[32m, line 3\u001b[39m\n\u001b[32m      1\u001b[39m colectie = (\u001b[32m1\u001b[39m, \u001b[32m2\u001b[39m, \u001b[32m3\u001b[39m, \u001b[32m4\u001b[39m, \u001b[32m5\u001b[39m, \u001b[32m6\u001b[39m, \u001b[32m7\u001b[39m, \u001b[32m8\u001b[39m, \u001b[32m9\u001b[39m, \u001b[32m10\u001b[39m)\n\u001b[32m      2\u001b[39m \u001b[38;5;66;03m# tuple este imutabil\u001b[39;00m\n\u001b[32m----> \u001b[39m\u001b[32m3\u001b[39m \u001b[43mcolectie\u001b[49m\u001b[43m.\u001b[49m\u001b[43mappend\u001b[49m(\u001b[32m10\u001b[39m)\n",
      "\u001b[31mAttributeError\u001b[39m: 'tuple' object has no attribute 'append'"
     ]
    }
   ],
   "source": [
    "colectie = (1, 2, 3, 4, 5, 6, 7, 8, 9, 10)\n",
    "# tuple este imutabil\n",
    "colectie.append(10)"
   ]
  },
  {
   "cell_type": "code",
   "execution_count": null,
   "id": "3cefb80b",
   "metadata": {},
   "outputs": [
    {
     "ename": "TypeError",
     "evalue": "'tuple' object does not support item assignment",
     "output_type": "error",
     "traceback": [
      "\u001b[31m---------------------------------------------------------------------------\u001b[39m",
      "\u001b[31mTypeError\u001b[39m                                 Traceback (most recent call last)",
      "\u001b[36mCell\u001b[39m\u001b[36m \u001b[39m\u001b[32mIn[6]\u001b[39m\u001b[32m, line 2\u001b[39m\n\u001b[32m      1\u001b[39m colectie = (\u001b[32m1\u001b[39m, \u001b[32m2\u001b[39m, \u001b[32m3\u001b[39m, \u001b[32m4\u001b[39m, \u001b[32m5\u001b[39m, \u001b[32m6\u001b[39m, \u001b[32m7\u001b[39m, \u001b[32m8\u001b[39m, \u001b[32m9\u001b[39m, \u001b[32m10\u001b[39m)\n\u001b[32m----> \u001b[39m\u001b[32m2\u001b[39m \u001b[43mcolectie\u001b[49m\u001b[43m[\u001b[49m\u001b[32;43m3\u001b[39;49m\u001b[43m]\u001b[49m = \u001b[32m300\u001b[39m\n",
      "\u001b[31mTypeError\u001b[39m: 'tuple' object does not support item assignment"
     ]
    }
   ],
   "source": [
    "colectie = (1, 2, 3, 4, 5, 6, 7, 8, 9, 10)\n",
    "# imutabil\n",
    "colectie[3] = 300"
   ]
  },
  {
   "cell_type": "markdown",
   "id": "9517caf8",
   "metadata": {},
   "source": [
    "# Imutabilitatea: citire\n",
    "    update si delete nu sunt posibile"
   ]
  },
  {
   "cell_type": "code",
   "execution_count": 7,
   "id": "048e5b52",
   "metadata": {},
   "outputs": [
    {
     "data": {
      "text/plain": [
       "tuple"
      ]
     },
     "execution_count": 7,
     "metadata": {},
     "output_type": "execute_result"
    }
   ],
   "source": [
    "colectie = (1, 2, 3, 4, 5, 6, 7, 8, 9, 10)\n",
    "type(colectie)"
   ]
  },
  {
   "cell_type": "code",
   "execution_count": 12,
   "id": "7059ff51",
   "metadata": {},
   "outputs": [
    {
     "name": "stdout",
     "output_type": "stream",
     "text": [
      "<class 'tuple'>\n",
      "<class 'list'>\n",
      "<class 'tuple'>\n",
      "(1, 2, 3, 4, 5, 6, 7, 8, 9, 10, 3)\n"
     ]
    }
   ],
   "source": [
    "colectie = (1, 2, 3, 4, 5, 6, 7, 8, 9, 10)\n",
    "print(type(colectie))\n",
    "\n",
    "colectie = list(colectie)\n",
    "print(type(colectie))\n",
    "\n",
    "colectie.append(3)\n",
    "colectie = tuple(colectie)\n",
    "print(type(colectie))\n",
    "print(colectie)"
   ]
  },
  {
   "cell_type": "code",
   "execution_count": 13,
   "id": "2540a741",
   "metadata": {},
   "outputs": [
    {
     "data": {
      "text/plain": [
       "(10, 30)"
      ]
     },
     "execution_count": 13,
     "metadata": {},
     "output_type": "execute_result"
    }
   ],
   "source": [
    "x = 10\n",
    "y = 30\n",
    "x, y\n"
   ]
  },
  {
   "cell_type": "code",
   "execution_count": 15,
   "id": "27f0a51a",
   "metadata": {},
   "outputs": [
    {
     "data": {
      "text/plain": [
       "tuple"
      ]
     },
     "execution_count": 15,
     "metadata": {},
     "output_type": "execute_result"
    }
   ],
   "source": [
    "x = 1, 2, 3, 4, 5\n",
    "type(x)"
   ]
  },
  {
   "cell_type": "code",
   "execution_count": null,
   "id": "ae093a87",
   "metadata": {},
   "outputs": [],
   "source": []
  }
 ],
 "metadata": {
  "kernelspec": {
   "display_name": "Python 3",
   "language": "python",
   "name": "python3"
  },
  "language_info": {
   "codemirror_mode": {
    "name": "ipython",
    "version": 3
   },
   "file_extension": ".py",
   "mimetype": "text/x-python",
   "name": "python",
   "nbconvert_exporter": "python",
   "pygments_lexer": "ipython3",
   "version": "3.13.3"
  }
 },
 "nbformat": 4,
 "nbformat_minor": 5
}
