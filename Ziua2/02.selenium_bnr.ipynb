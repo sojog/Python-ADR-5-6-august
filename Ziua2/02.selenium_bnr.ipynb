{
 "cells": [
  {
   "cell_type": "markdown",
   "id": "7c4af0a9",
   "metadata": {},
   "source": [
    "# pip install selenium"
   ]
  },
  {
   "cell_type": "code",
   "execution_count": 1,
   "id": "c831c5ba",
   "metadata": {},
   "outputs": [],
   "source": [
    "from selenium import webdriver"
   ]
  },
  {
   "cell_type": "code",
   "execution_count": 2,
   "id": "5c3054d2",
   "metadata": {},
   "outputs": [],
   "source": [
    "driver = webdriver.Chrome()\n"
   ]
  },
  {
   "cell_type": "code",
   "execution_count": 3,
   "id": "b9a8ac57",
   "metadata": {},
   "outputs": [],
   "source": [
    "driver.get(\"https://www.cursbnr.ro/\")"
   ]
  },
  {
   "cell_type": "code",
   "execution_count": 4,
   "id": "772ab80a",
   "metadata": {},
   "outputs": [],
   "source": [
    "AGREE_BUTTON_XPATH = \"/html/body/div[6]/div[2]/div[2]/div[2]/div[2]/button[1]/p\""
   ]
  },
  {
   "cell_type": "code",
   "execution_count": 5,
   "id": "d33b8399",
   "metadata": {},
   "outputs": [],
   "source": [
    "from selenium.webdriver.common.by import By"
   ]
  },
  {
   "cell_type": "code",
   "execution_count": 7,
   "id": "b7a7ea2b",
   "metadata": {},
   "outputs": [],
   "source": [
    "agree_button = driver.find_element(By.XPATH, AGREE_BUTTON_XPATH)"
   ]
  },
  {
   "cell_type": "code",
   "execution_count": 8,
   "id": "ec83f099",
   "metadata": {},
   "outputs": [],
   "source": [
    "agree_button.click()"
   ]
  },
  {
   "cell_type": "code",
   "execution_count": 9,
   "id": "f3a0c245",
   "metadata": {},
   "outputs": [],
   "source": [
    "EURO_XPATH = \"/html/body/div[3]/div[1]/div/main/div[2]/div[1]/ul/li[1]/div[1]/div[1]\""
   ]
  },
  {
   "cell_type": "code",
   "execution_count": 10,
   "id": "e964082b",
   "metadata": {},
   "outputs": [],
   "source": [
    "euro_value = driver.find_element(By.XPATH, EURO_XPATH)"
   ]
  },
  {
   "cell_type": "code",
   "execution_count": 11,
   "id": "c8bc6dc1",
   "metadata": {},
   "outputs": [
    {
     "data": {
      "text/plain": [
       "'1 EURO = 5.0749 Lei'"
      ]
     },
     "execution_count": 11,
     "metadata": {},
     "output_type": "execute_result"
    }
   ],
   "source": [
    "euro_value.text"
   ]
  },
  {
   "cell_type": "code",
   "execution_count": 12,
   "id": "52b7c6a4",
   "metadata": {},
   "outputs": [],
   "source": [
    "driver.quit()"
   ]
  },
  {
   "cell_type": "code",
   "execution_count": null,
   "id": "7f79ec89",
   "metadata": {},
   "outputs": [],
   "source": []
  }
 ],
 "metadata": {
  "kernelspec": {
   "display_name": "Python 3",
   "language": "python",
   "name": "python3"
  },
  "language_info": {
   "codemirror_mode": {
    "name": "ipython",
    "version": 3
   },
   "file_extension": ".py",
   "mimetype": "text/x-python",
   "name": "python",
   "nbconvert_exporter": "python",
   "pygments_lexer": "ipython3",
   "version": "3.13.3"
  }
 },
 "nbformat": 4,
 "nbformat_minor": 5
}
