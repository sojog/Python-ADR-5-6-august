{
 "cells": [
  {
   "cell_type": "code",
   "execution_count": 66,
   "id": "518bcf17",
   "metadata": {},
   "outputs": [],
   "source": [
    "from selenium import webdriver\n",
    "from selenium.webdriver.common.by import By"
   ]
  },
  {
   "cell_type": "code",
   "execution_count": 67,
   "id": "492a8dd3",
   "metadata": {},
   "outputs": [],
   "source": [
    "URL = \"https://www.listafirme.ro/\""
   ]
  },
  {
   "cell_type": "code",
   "execution_count": 68,
   "id": "13a19ad4",
   "metadata": {},
   "outputs": [],
   "source": [
    "driver = webdriver.Chrome()"
   ]
  },
  {
   "cell_type": "code",
   "execution_count": 69,
   "id": "f1458999",
   "metadata": {},
   "outputs": [],
   "source": [
    "driver.get(URL)"
   ]
  },
  {
   "cell_type": "code",
   "execution_count": 70,
   "id": "347bf8c7",
   "metadata": {},
   "outputs": [],
   "source": [
    "driver.find_element(By.ID, \"btnAccept\").click()"
   ]
  },
  {
   "cell_type": "code",
   "execution_count": 71,
   "id": "cf061e25",
   "metadata": {},
   "outputs": [],
   "source": [
    "INPUT_XPATH = \"/html/body/div[1]/header/div[2]/div[2]/form/div/input\""
   ]
  },
  {
   "cell_type": "code",
   "execution_count": 72,
   "id": "7d7318f3",
   "metadata": {},
   "outputs": [
    {
     "data": {
      "text/plain": [
       "<selenium.webdriver.remote.webelement.WebElement (session=\"7400cd682e59a2c7cc4306c07378bc09\", element=\"f.CDCF850681ADB4E17C9628863927158D.d.DF70697748AA22B1E1B6F5D7ACCB8AC9.e.15\")>"
      ]
     },
     "execution_count": 72,
     "metadata": {},
     "output_type": "execute_result"
    }
   ],
   "source": [
    "input_field = driver.find_element(By.XPATH, INPUT_XPATH)\n",
    "input_field"
   ]
  },
  {
   "cell_type": "code",
   "execution_count": 73,
   "id": "36bde628",
   "metadata": {},
   "outputs": [],
   "source": [
    "input_field.send_keys(\"Bittnet\")"
   ]
  },
  {
   "cell_type": "code",
   "execution_count": 74,
   "id": "8e6dd760",
   "metadata": {},
   "outputs": [],
   "source": [
    "SEARCH_XPATH = \"/html/body/div[1]/header/div[2]/div[2]/form/div/div/button[1]\""
   ]
  },
  {
   "cell_type": "code",
   "execution_count": 75,
   "id": "cbf3df51",
   "metadata": {},
   "outputs": [
    {
     "data": {
      "text/plain": [
       "<selenium.webdriver.remote.webelement.WebElement (session=\"7400cd682e59a2c7cc4306c07378bc09\", element=\"f.CDCF850681ADB4E17C9628863927158D.d.DF70697748AA22B1E1B6F5D7ACCB8AC9.e.24\")>"
      ]
     },
     "execution_count": 75,
     "metadata": {},
     "output_type": "execute_result"
    }
   ],
   "source": [
    "search_field = driver.find_element(By.XPATH, SEARCH_XPATH)\n",
    "search_field"
   ]
  },
  {
   "cell_type": "code",
   "execution_count": 76,
   "id": "7cdcb21c",
   "metadata": {},
   "outputs": [],
   "source": [
    "search_field.click()"
   ]
  },
  {
   "cell_type": "code",
   "execution_count": 77,
   "id": "9747c2e8",
   "metadata": {},
   "outputs": [],
   "source": [
    "COMPANY_1_XPATH = \"/html/body/div[1]/main/section/div/table/tbody/tr[2]/td[2]/a\""
   ]
  },
  {
   "cell_type": "code",
   "execution_count": 78,
   "id": "a85cfb16",
   "metadata": {},
   "outputs": [],
   "source": [
    "COMPANY_2_XPATH = \"/html/body/div[1]/main/section/div/table/tbody/tr[3]/td[2]/a\""
   ]
  },
  {
   "cell_type": "code",
   "execution_count": 79,
   "id": "a657773a",
   "metadata": {},
   "outputs": [],
   "source": [
    "NR = 1\n",
    "COMPANY_NR_XPATH = f\"/html/body/div[1]/main/section/div/table/tbody/tr[{NR + 1}]/td[2]/a\""
   ]
  },
  {
   "cell_type": "code",
   "execution_count": 80,
   "id": "7cb93a3b",
   "metadata": {},
   "outputs": [],
   "source": [
    "import time\n",
    "time.sleep(5)"
   ]
  },
  {
   "cell_type": "code",
   "execution_count": 81,
   "id": "32a60155",
   "metadata": {},
   "outputs": [
    {
     "data": {
      "text/plain": [
       "<selenium.webdriver.remote.webelement.WebElement (session=\"7400cd682e59a2c7cc4306c07378bc09\", element=\"f.CDCF850681ADB4E17C9628863927158D.d.69FE434804A5A8FDDF76DC64AF90C544.e.62\")>"
      ]
     },
     "execution_count": 81,
     "metadata": {},
     "output_type": "execute_result"
    }
   ],
   "source": [
    "company_link = driver.find_element(By.XPATH, COMPANY_NR_XPATH)\n",
    "company_link"
   ]
  },
  {
   "cell_type": "code",
   "execution_count": 82,
   "id": "99b9b8d3",
   "metadata": {},
   "outputs": [
    {
     "data": {
      "text/plain": [
       "'BITTNET SYSTEMS SA'"
      ]
     },
     "execution_count": 82,
     "metadata": {},
     "output_type": "execute_result"
    }
   ],
   "source": [
    "company_link.text"
   ]
  },
  {
   "cell_type": "code",
   "execution_count": 83,
   "id": "8511db07",
   "metadata": {},
   "outputs": [
    {
     "data": {
      "text/plain": [
       "'https://www.listafirme.ro/bittnet-systems-sa-21181848/'"
      ]
     },
     "execution_count": 83,
     "metadata": {},
     "output_type": "execute_result"
    }
   ],
   "source": [
    "NEXT_LINK = company_link.get_attribute('href')\n",
    "NEXT_LINK"
   ]
  },
  {
   "cell_type": "code",
   "execution_count": 84,
   "id": "a83c7448",
   "metadata": {},
   "outputs": [],
   "source": [
    "driver.get(NEXT_LINK)"
   ]
  },
  {
   "cell_type": "code",
   "execution_count": 85,
   "id": "17e49449",
   "metadata": {},
   "outputs": [],
   "source": [
    "CAEN_CODE_XPATH = '//*[@id=\"domeniu-de-activitate\"]/tbody/tr[2]/td[2]'"
   ]
  },
  {
   "cell_type": "code",
   "execution_count": 86,
   "id": "aa4d52a9",
   "metadata": {},
   "outputs": [
    {
     "data": {
      "text/plain": [
       "'https://www.listafirme.ro/bittnet-systems-sa-21181848/'"
      ]
     },
     "execution_count": 86,
     "metadata": {},
     "output_type": "execute_result"
    }
   ],
   "source": [
    "driver.current_url"
   ]
  },
  {
   "cell_type": "code",
   "execution_count": 87,
   "id": "93a90268",
   "metadata": {},
   "outputs": [
    {
     "data": {
      "text/plain": [
       "'6202 Rev. 2  (similar 6220 Rev. 3)'"
      ]
     },
     "execution_count": 87,
     "metadata": {},
     "output_type": "execute_result"
    }
   ],
   "source": [
    "CAEN_CODE_ELEMENT = driver.find_element(By.XPATH, CAEN_CODE_XPATH)\n",
    "CAEN_CODE_ELEMENT.text\n",
    "\n",
    "\n"
   ]
  },
  {
   "cell_type": "code",
   "execution_count": 88,
   "id": "aa6b3af3",
   "metadata": {},
   "outputs": [],
   "source": [
    "driver.quit()"
   ]
  }
 ],
 "metadata": {
  "kernelspec": {
   "display_name": "Python 3",
   "language": "python",
   "name": "python3"
  },
  "language_info": {
   "codemirror_mode": {
    "name": "ipython",
    "version": 3
   },
   "file_extension": ".py",
   "mimetype": "text/x-python",
   "name": "python",
   "nbconvert_exporter": "python",
   "pygments_lexer": "ipython3",
   "version": "3.13.3"
  }
 },
 "nbformat": 4,
 "nbformat_minor": 5
}
