{
 "cells": [
  {
   "cell_type": "code",
   "execution_count": 1,
   "id": "ddca94f8",
   "metadata": {},
   "outputs": [],
   "source": [
    "import numpy as np"
   ]
  },
  {
   "cell_type": "code",
   "execution_count": 4,
   "id": "a9ce7ab6",
   "metadata": {},
   "outputs": [
    {
     "data": {
      "text/plain": [
       "array([10, 11, 12])"
      ]
     },
     "execution_count": 4,
     "metadata": {},
     "output_type": "execute_result"
    }
   ],
   "source": [
    "array1 = np.arange(10, 13)\n",
    "array1"
   ]
  },
  {
   "cell_type": "code",
   "execution_count": 8,
   "id": "f9f39cb0",
   "metadata": {},
   "outputs": [
    {
     "data": {
      "text/plain": [
       "array([91, 12, 49])"
      ]
     },
     "execution_count": 8,
     "metadata": {},
     "output_type": "execute_result"
    }
   ],
   "source": [
    "array2 = np.random.randint(1, 100, 3)\n",
    "array2"
   ]
  },
  {
   "cell_type": "code",
   "execution_count": 9,
   "id": "5fd26a0b",
   "metadata": {},
   "outputs": [
    {
     "data": {
      "text/plain": [
       "array([101,  23,  61])"
      ]
     },
     "execution_count": 9,
     "metadata": {},
     "output_type": "execute_result"
    }
   ],
   "source": [
    "array1 + array2"
   ]
  },
  {
   "cell_type": "code",
   "execution_count": 12,
   "id": "d13686f4",
   "metadata": {},
   "outputs": [
    {
     "data": {
      "text/plain": [
       "array([1000, 1100, 1200, 1300, 1400, 1500, 1600, 1700, 1800, 1900])"
      ]
     },
     "execution_count": 12,
     "metadata": {},
     "output_type": "execute_result"
    }
   ],
   "source": [
    "array = np.arange(1000, 2000, 100)\n",
    "array"
   ]
  },
  {
   "cell_type": "code",
   "execution_count": 13,
   "id": "2b1c6245",
   "metadata": {},
   "outputs": [
    {
     "data": {
      "text/plain": [
       "(np.int64(1000), np.int64(1900))"
      ]
     },
     "execution_count": 13,
     "metadata": {},
     "output_type": "execute_result"
    }
   ],
   "source": [
    "array.min(), array.max()"
   ]
  },
  {
   "cell_type": "code",
   "execution_count": 14,
   "id": "9f771433",
   "metadata": {},
   "outputs": [
    {
     "data": {
      "text/plain": [
       "10"
      ]
     },
     "execution_count": 14,
     "metadata": {},
     "output_type": "execute_result"
    }
   ],
   "source": [
    "array.size"
   ]
  },
  {
   "cell_type": "code",
   "execution_count": 15,
   "id": "2a91231d",
   "metadata": {},
   "outputs": [
    {
     "data": {
      "text/plain": [
       "array([[1000, 1100],\n",
       "       [1200, 1300],\n",
       "       [1400, 1500],\n",
       "       [1600, 1700],\n",
       "       [1800, 1900]])"
      ]
     },
     "execution_count": 15,
     "metadata": {},
     "output_type": "execute_result"
    }
   ],
   "source": [
    "array.reshape(5, 2)"
   ]
  },
  {
   "cell_type": "code",
   "execution_count": 16,
   "id": "8e9761a8",
   "metadata": {},
   "outputs": [
    {
     "data": {
      "text/plain": [
       "array([[1000, 1100, 1200, 1300, 1400],\n",
       "       [1500, 1600, 1700, 1800, 1900]])"
      ]
     },
     "execution_count": 16,
     "metadata": {},
     "output_type": "execute_result"
    }
   ],
   "source": [
    "array.reshape(2, 5)"
   ]
  },
  {
   "cell_type": "code",
   "execution_count": 18,
   "id": "4f7f5d09",
   "metadata": {},
   "outputs": [
    {
     "data": {
      "text/plain": [
       "array([[1000, 1100, 1200, 1300, 1400],\n",
       "       [1500, 1600, 1700, 1800, 1900]])"
      ]
     },
     "execution_count": 18,
     "metadata": {},
     "output_type": "execute_result"
    }
   ],
   "source": [
    "array_5_2 = array.reshape(2, 5)\n",
    "array_5_2"
   ]
  },
  {
   "cell_type": "code",
   "execution_count": 19,
   "id": "44e46ea9",
   "metadata": {},
   "outputs": [
    {
     "data": {
      "text/plain": [
       "array([1500, 1600, 1700, 1800, 1900])"
      ]
     },
     "execution_count": 19,
     "metadata": {},
     "output_type": "execute_result"
    }
   ],
   "source": [
    "array_5_2[1]"
   ]
  },
  {
   "cell_type": "code",
   "execution_count": 20,
   "id": "8b3dd645",
   "metadata": {},
   "outputs": [
    {
     "data": {
      "text/plain": [
       "np.int64(1800)"
      ]
     },
     "execution_count": 20,
     "metadata": {},
     "output_type": "execute_result"
    }
   ],
   "source": [
    "array_5_2[1][3]"
   ]
  },
  {
   "cell_type": "code",
   "execution_count": 21,
   "id": "e3c65499",
   "metadata": {},
   "outputs": [
    {
     "data": {
      "text/plain": [
       "np.int64(1800)"
      ]
     },
     "execution_count": 21,
     "metadata": {},
     "output_type": "execute_result"
    }
   ],
   "source": [
    "array_5_2[1, 3]"
   ]
  },
  {
   "cell_type": "code",
   "execution_count": 23,
   "id": "06cc98e1",
   "metadata": {},
   "outputs": [
    {
     "data": {
      "text/plain": [
       "array([[1200, 1300, 1400],\n",
       "       [1700, 1800, 1900]])"
      ]
     },
     "execution_count": 23,
     "metadata": {},
     "output_type": "execute_result"
    }
   ],
   "source": [
    "array_5_2[ : , 2: ]"
   ]
  },
  {
   "cell_type": "code",
   "execution_count": 26,
   "id": "45b10026",
   "metadata": {},
   "outputs": [
    {
     "data": {
      "text/plain": [
       "array([1200, 1500, 1800])"
      ]
     },
     "execution_count": 26,
     "metadata": {},
     "output_type": "execute_result"
    }
   ],
   "source": [
    "array_5_2 [ array_5_2 % 3 == 0]"
   ]
  },
  {
   "cell_type": "code",
   "execution_count": null,
   "id": "fbfd8366",
   "metadata": {},
   "outputs": [],
   "source": []
  }
 ],
 "metadata": {
  "kernelspec": {
   "display_name": "Python 3",
   "language": "python",
   "name": "python3"
  },
  "language_info": {
   "codemirror_mode": {
    "name": "ipython",
    "version": 3
   },
   "file_extension": ".py",
   "mimetype": "text/x-python",
   "name": "python",
   "nbconvert_exporter": "python",
   "pygments_lexer": "ipython3",
   "version": "3.13.3"
  }
 },
 "nbformat": 4,
 "nbformat_minor": 5
}
