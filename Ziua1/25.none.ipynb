{
 "cells": [
  {
   "cell_type": "code",
   "execution_count": 2,
   "id": "cdf4b0bd",
   "metadata": {},
   "outputs": [
    {
     "data": {
      "text/plain": [
       "(None, NoneType)"
      ]
     },
     "execution_count": 2,
     "metadata": {},
     "output_type": "execute_result"
    }
   ],
   "source": [
    "x = None\n",
    "x, type(x)"
   ]
  },
  {
   "cell_type": "code",
   "execution_count": 7,
   "id": "00617ce0",
   "metadata": {},
   "outputs": [
    {
     "name": "stdout",
     "output_type": "stream",
     "text": [
      "Salut\n",
      "None\n"
     ]
    }
   ],
   "source": [
    "x = print(\"Salut\")\n",
    "print(x)"
   ]
  },
  {
   "cell_type": "code",
   "execution_count": 5,
   "id": "36bbe8f0",
   "metadata": {},
   "outputs": [],
   "source": [
    "x = input(\"Salut\")"
   ]
  },
  {
   "cell_type": "code",
   "execution_count": null,
   "id": "8ec345fe",
   "metadata": {},
   "outputs": [],
   "source": []
  }
 ],
 "metadata": {
  "kernelspec": {
   "display_name": "Python 3",
   "language": "python",
   "name": "python3"
  },
  "language_info": {
   "codemirror_mode": {
    "name": "ipython",
    "version": 3
   },
   "file_extension": ".py",
   "mimetype": "text/x-python",
   "name": "python",
   "nbconvert_exporter": "python",
   "pygments_lexer": "ipython3",
   "version": "3.13.3"
  }
 },
 "nbformat": 4,
 "nbformat_minor": 5
}
