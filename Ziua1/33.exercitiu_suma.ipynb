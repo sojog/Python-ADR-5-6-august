{
 "cells": [
  {
   "cell_type": "code",
   "execution_count": 1,
   "id": "2e4a453c",
   "metadata": {},
   "outputs": [],
   "source": [
    "text = \"1,2,3,4,3,2\""
   ]
  },
  {
   "cell_type": "code",
   "execution_count": 2,
   "id": "b8fdd3f1",
   "metadata": {},
   "outputs": [],
   "source": [
    "caractere = list(text)"
   ]
  },
  {
   "cell_type": "markdown",
   "id": "58ea1904",
   "metadata": {},
   "source": [
    "# Varianta 1"
   ]
  },
  {
   "cell_type": "code",
   "execution_count": 3,
   "id": "6c4174df",
   "metadata": {},
   "outputs": [
    {
     "data": {
      "text/plain": [
       "[1, 2, 3, 4, 3, 2]"
      ]
     },
     "execution_count": 3,
     "metadata": {},
     "output_type": "execute_result"
    }
   ],
   "source": [
    "numere = []\n",
    "for ch in caractere:\n",
    "    if ch != \",\":\n",
    "        numere.append(int(ch))\n",
    "numere"
   ]
  },
  {
   "cell_type": "markdown",
   "id": "e9c23000",
   "metadata": {},
   "source": [
    "# Varianta 2"
   ]
  },
  {
   "cell_type": "code",
   "execution_count": 4,
   "id": "33b98975",
   "metadata": {},
   "outputs": [
    {
     "data": {
      "text/plain": [
       "['1', '2', '3', '4', '3', '2']"
      ]
     },
     "execution_count": 4,
     "metadata": {},
     "output_type": "execute_result"
    }
   ],
   "source": [
    "text = \"1,2,3,4,3,2\"\n",
    "caractere = text.split(\",\")\n",
    "caractere\n"
   ]
  },
  {
   "cell_type": "code",
   "execution_count": 6,
   "id": "8c9b67dc",
   "metadata": {},
   "outputs": [
    {
     "data": {
      "text/plain": [
       "[1, 2, 3, 4, 3, 2]"
      ]
     },
     "execution_count": 6,
     "metadata": {},
     "output_type": "execute_result"
    }
   ],
   "source": [
    "numere = []\n",
    "for ch in caractere:\n",
    "    numere.append(int(ch))\n",
    "numere"
   ]
  },
  {
   "cell_type": "markdown",
   "id": "4c242565",
   "metadata": {},
   "source": [
    "# Varianta 3 - list comprehention"
   ]
  },
  {
   "cell_type": "code",
   "execution_count": null,
   "id": "08b09ea6",
   "metadata": {},
   "outputs": [
    {
     "data": {
      "text/plain": [
       "[1, 2, 3, 4, 3, 2]"
      ]
     },
     "execution_count": 7,
     "metadata": {},
     "output_type": "execute_result"
    }
   ],
   "source": [
    "text = \"1,2,3,4,3,2\"\n",
    "caractere = text.split(\",\")\n",
    "\n",
    "numere = [ int(ch) for ch in caractere]\n"
   ]
  },
  {
   "cell_type": "code",
   "execution_count": 8,
   "id": "5cdb9a8e",
   "metadata": {},
   "outputs": [],
   "source": [
    "numere = [1, 2, 3, 4, 3, 2]"
   ]
  },
  {
   "cell_type": "code",
   "execution_count": 9,
   "id": "92caa757",
   "metadata": {},
   "outputs": [
    {
     "name": "stdout",
     "output_type": "stream",
     "text": [
      "i= 1 count: 1\n",
      "i= 2 count: 2\n",
      "i= 3 count: 2\n",
      "i= 4 count: 1\n",
      "i= 3 count: 2\n",
      "i= 2 count: 2\n"
     ]
    }
   ],
   "source": [
    "for i in numere:\n",
    "    print(\"i=\", i, \"count:\",  numere.count(i))"
   ]
  },
  {
   "cell_type": "code",
   "execution_count": 10,
   "id": "974d3fe1",
   "metadata": {},
   "outputs": [
    {
     "name": "stdout",
     "output_type": "stream",
     "text": [
      "5\n"
     ]
    }
   ],
   "source": [
    "numere = [1, 2, 3, 4, 3, 2]\n",
    "suma = 0\n",
    "for i in numere:\n",
    "    if numere.count(i) == 1:\n",
    "        suma += i\n",
    "\n",
    "print(suma)\n"
   ]
  },
  {
   "cell_type": "code",
   "execution_count": 11,
   "id": "78754482",
   "metadata": {},
   "outputs": [
    {
     "name": "stdout",
     "output_type": "stream",
     "text": [
      "[1, 4]\n"
     ]
    }
   ],
   "source": [
    "numere = [1, 2, 3, 4, 3, 2]\n",
    "unice = [ i for i in numere if numere.count(i) == 1]\n",
    "print(unice)"
   ]
  },
  {
   "cell_type": "code",
   "execution_count": 12,
   "id": "3a63788c",
   "metadata": {},
   "outputs": [
    {
     "data": {
      "text/plain": [
       "5"
      ]
     },
     "execution_count": 12,
     "metadata": {},
     "output_type": "execute_result"
    }
   ],
   "source": [
    "sum(unice)"
   ]
  },
  {
   "cell_type": "code",
   "execution_count": null,
   "id": "ae67d5e0",
   "metadata": {},
   "outputs": [],
   "source": []
  }
 ],
 "metadata": {
  "kernelspec": {
   "display_name": "Python 3",
   "language": "python",
   "name": "python3"
  },
  "language_info": {
   "codemirror_mode": {
    "name": "ipython",
    "version": 3
   },
   "file_extension": ".py",
   "mimetype": "text/x-python",
   "name": "python",
   "nbconvert_exporter": "python",
   "pygments_lexer": "ipython3",
   "version": "3.13.3"
  }
 },
 "nbformat": 4,
 "nbformat_minor": 5
}
