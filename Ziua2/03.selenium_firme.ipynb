{
 "cells": [
  {
   "cell_type": "code",
   "execution_count": 3,
   "id": "518bcf17",
   "metadata": {},
   "outputs": [],
   "source": [
    "from selenium import webdriver\n",
    "from selenium.webdriver.common.by import By"
   ]
  },
  {
   "cell_type": "code",
   "execution_count": 4,
   "id": "492a8dd3",
   "metadata": {},
   "outputs": [],
   "source": [
    "URL = \"https://www.listafirme.ro/\""
   ]
  },
  {
   "cell_type": "code",
   "execution_count": 5,
   "id": "13a19ad4",
   "metadata": {},
   "outputs": [],
   "source": [
    "driver = webdriver.Chrome()"
   ]
  },
  {
   "cell_type": "code",
   "execution_count": 6,
   "id": "f1458999",
   "metadata": {},
   "outputs": [],
   "source": [
    "driver.get(URL)"
   ]
  },
  {
   "cell_type": "code",
   "execution_count": 7,
   "id": "347bf8c7",
   "metadata": {},
   "outputs": [],
   "source": [
    "driver.find_element(By.ID, \"btnAccept\").click()"
   ]
  },
  {
   "cell_type": "code",
   "execution_count": 8,
   "id": "cf061e25",
   "metadata": {},
   "outputs": [],
   "source": [
    "INPUT_XPATH = \"/html/body/div[1]/header/div[2]/div[2]/form/div/input\""
   ]
  },
  {
   "cell_type": "code",
   "execution_count": null,
   "id": "7d7318f3",
   "metadata": {},
   "outputs": [
    {
     "data": {
      "text/plain": [
       "<selenium.webdriver.remote.webelement.WebElement (session=\"4aeb8a4bb2b059433f2cc9ee949f51e1\", element=\"f.E0D27FE97DC7DDE76C61A6D8B926A27A.d.E052E96C135B9730061C9A67B03AE88A.e.13\")>"
      ]
     },
     "execution_count": 9,
     "metadata": {},
     "output_type": "execute_result"
    }
   ],
   "source": [
    "input_field = driver.find_element(By.XPATH, INPUT_XPATH)\n",
    "input_field"
   ]
  },
  {
   "cell_type": "code",
   "execution_count": 10,
   "id": "36bde628",
   "metadata": {},
   "outputs": [],
   "source": [
    "input_field.send_keys(\"Bittnet\")"
   ]
  },
  {
   "cell_type": "code",
   "execution_count": 11,
   "id": "8e6dd760",
   "metadata": {},
   "outputs": [],
   "source": [
    "SEARCH_XPATH = \"/html/body/div[1]/header/div[2]/div[2]/form/div/div/button[1]\""
   ]
  },
  {
   "cell_type": "code",
   "execution_count": 12,
   "id": "cbf3df51",
   "metadata": {},
   "outputs": [
    {
     "data": {
      "text/plain": [
       "<selenium.webdriver.remote.webelement.WebElement (session=\"4aeb8a4bb2b059433f2cc9ee949f51e1\", element=\"f.E0D27FE97DC7DDE76C61A6D8B926A27A.d.E052E96C135B9730061C9A67B03AE88A.e.22\")>"
      ]
     },
     "execution_count": 12,
     "metadata": {},
     "output_type": "execute_result"
    }
   ],
   "source": [
    "search_field = driver.find_element(By.XPATH, SEARCH_XPATH)\n",
    "search_field"
   ]
  },
  {
   "cell_type": "code",
   "execution_count": 13,
   "id": "7cdcb21c",
   "metadata": {},
   "outputs": [],
   "source": [
    "search_field.click()"
   ]
  },
  {
   "cell_type": "code",
   "execution_count": null,
   "id": "9747c2e8",
   "metadata": {},
   "outputs": [],
   "source": [
    "COMPANY_1_XPATH = \"/html/body/div[1]/main/section/div/table/tbody/tr[2]/td[2]/a\""
   ]
  },
  {
   "cell_type": "code",
   "execution_count": null,
   "id": "a85cfb16",
   "metadata": {},
   "outputs": [],
   "source": [
    "COMPANY_2_XPATH = \"/html/body/div[1]/main/section/div/table/tbody/tr[3]/td[2]/a\""
   ]
  },
  {
   "cell_type": "code",
   "execution_count": 15,
   "id": "a657773a",
   "metadata": {},
   "outputs": [],
   "source": [
    "NR = 1\n",
    "COMPANY_NR_XPATH = f\"/html/body/div[1]/main/section/div/table/tbody/tr[{NR + 1}]/td[2]/a\""
   ]
  },
  {
   "cell_type": "code",
   "execution_count": 23,
   "id": "90833e1f",
   "metadata": {},
   "outputs": [
    {
     "data": {
      "text/plain": [
       "<selenium.webdriver.remote.webelement.WebElement (session=\"4aeb8a4bb2b059433f2cc9ee949f51e1\", element=\"f.E0D27FE97DC7DDE76C61A6D8B926A27A.d.4240E4F195FFC6E2C8DF4A047AEEE923.e.1978\")>"
      ]
     },
     "execution_count": 23,
     "metadata": {},
     "output_type": "execute_result"
    }
   ],
   "source": [
    "company_link = driver.find_element(By.XPATH, COMPANY_NR_XPATH)\n",
    "company_link"
   ]
  },
  {
   "cell_type": "code",
   "execution_count": 24,
   "id": "99b9b8d3",
   "metadata": {},
   "outputs": [
    {
     "data": {
      "text/plain": [
       "'BITTNET SYSTEMS SA'"
      ]
     },
     "execution_count": 24,
     "metadata": {},
     "output_type": "execute_result"
    }
   ],
   "source": [
    "company_link.text"
   ]
  },
  {
   "cell_type": "code",
   "execution_count": 26,
   "id": "8511db07",
   "metadata": {},
   "outputs": [
    {
     "data": {
      "text/plain": [
       "'https://www.listafirme.ro/bittnet-systems-sa-21181848/'"
      ]
     },
     "execution_count": 26,
     "metadata": {},
     "output_type": "execute_result"
    }
   ],
   "source": [
    "NEXT_LINK = company_link.get_attribute('href')\n",
    "NEXT_LINK"
   ]
  },
  {
   "cell_type": "code",
   "execution_count": 27,
   "id": "a83c7448",
   "metadata": {},
   "outputs": [],
   "source": [
    "driver.get(NEXT_LINK)"
   ]
  },
  {
   "cell_type": "code",
   "execution_count": 28,
   "id": "17e49449",
   "metadata": {},
   "outputs": [],
   "source": [
    "CAEN_CODE_XPATH = '//*[@id=\"domeniu-de-activitate\"]/tbody/tr[2]/td[2]'"
   ]
  },
  {
   "cell_type": "code",
   "execution_count": 29,
   "id": "aa4d52a9",
   "metadata": {},
   "outputs": [
    {
     "data": {
      "text/plain": [
       "'https://www.listafirme.ro/bittnet-systems-sa-21181848/'"
      ]
     },
     "execution_count": 29,
     "metadata": {},
     "output_type": "execute_result"
    }
   ],
   "source": [
    "driver.current_url"
   ]
  },
  {
   "cell_type": "code",
   "execution_count": 32,
   "id": "93a90268",
   "metadata": {},
   "outputs": [
    {
     "data": {
      "text/plain": [
       "'6202 Rev. 2  (similar 6220 Rev. 3)'"
      ]
     },
     "execution_count": 32,
     "metadata": {},
     "output_type": "execute_result"
    }
   ],
   "source": [
    "CAEN_CODE_ELEMENT = driver.find_element(By.XPATH, CAEN_CODE_XPATH)\n",
    "CAEN_CODE_ELEMENT.text\n",
    "\n",
    "\n"
   ]
  },
  {
   "cell_type": "code",
   "execution_count": null,
   "id": "aa6b3af3",
   "metadata": {},
   "outputs": [],
   "source": []
  }
 ],
 "metadata": {
  "kernelspec": {
   "display_name": "Python 3",
   "language": "python",
   "name": "python3"
  },
  "language_info": {
   "codemirror_mode": {
    "name": "ipython",
    "version": 3
   },
   "file_extension": ".py",
   "mimetype": "text/x-python",
   "name": "python",
   "nbconvert_exporter": "python",
   "pygments_lexer": "ipython3",
   "version": "3.13.3"
  }
 },
 "nbformat": 4,
 "nbformat_minor": 5
}
