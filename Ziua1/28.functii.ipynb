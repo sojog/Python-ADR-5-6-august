{
 "cells": [
  {
   "cell_type": "code",
   "execution_count": 1,
   "id": "4b4562f9",
   "metadata": {},
   "outputs": [],
   "source": [
    "def ridica_la_putere(valoare, putere):\n",
    "    return valoare ** putere"
   ]
  },
  {
   "cell_type": "code",
   "execution_count": 2,
   "id": "3b67ec47",
   "metadata": {},
   "outputs": [
    {
     "data": {
      "text/plain": [
       "1000"
      ]
     },
     "execution_count": 2,
     "metadata": {},
     "output_type": "execute_result"
    }
   ],
   "source": [
    "ridica_la_putere(10, 3)"
   ]
  },
  {
   "cell_type": "code",
   "execution_count": 3,
   "id": "cc875d65",
   "metadata": {},
   "outputs": [
    {
     "data": {
      "text/plain": [
       "1024"
      ]
     },
     "execution_count": 3,
     "metadata": {},
     "output_type": "execute_result"
    }
   ],
   "source": [
    "ridica_la_putere(2, 10)"
   ]
  },
  {
   "cell_type": "code",
   "execution_count": 4,
   "id": "6eee9d2f",
   "metadata": {},
   "outputs": [],
   "source": [
    "def ridica_la_putere_default(valoare, putere = 2):\n",
    "    return valoare ** putere"
   ]
  },
  {
   "cell_type": "code",
   "execution_count": 5,
   "id": "64152920",
   "metadata": {},
   "outputs": [
    {
     "data": {
      "text/plain": [
       "25"
      ]
     },
     "execution_count": 5,
     "metadata": {},
     "output_type": "execute_result"
    }
   ],
   "source": [
    "ridica_la_putere_default(5)"
   ]
  },
  {
   "cell_type": "code",
   "execution_count": 7,
   "id": "a67ddfeb",
   "metadata": {},
   "outputs": [
    {
     "data": {
      "text/plain": [
       "125"
      ]
     },
     "execution_count": 7,
     "metadata": {},
     "output_type": "execute_result"
    }
   ],
   "source": [
    "ridica_la_putere_default(5, 3)"
   ]
  },
  {
   "cell_type": "code",
   "execution_count": null,
   "id": "1264489f",
   "metadata": {},
   "outputs": [],
   "source": []
  }
 ],
 "metadata": {
  "kernelspec": {
   "display_name": "Python 3",
   "language": "python",
   "name": "python3"
  },
  "language_info": {
   "codemirror_mode": {
    "name": "ipython",
    "version": 3
   },
   "file_extension": ".py",
   "mimetype": "text/x-python",
   "name": "python",
   "nbconvert_exporter": "python",
   "pygments_lexer": "ipython3",
   "version": "3.13.3"
  }
 },
 "nbformat": 4,
 "nbformat_minor": 5
}
