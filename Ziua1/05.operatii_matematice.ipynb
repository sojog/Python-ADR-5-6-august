{
 "cells": [
  {
   "cell_type": "code",
   "execution_count": 1,
   "id": "d9f5816b",
   "metadata": {},
   "outputs": [
    {
     "name": "stdout",
     "output_type": "stream",
     "text": [
      "12 <class 'int'>\n"
     ]
    }
   ],
   "source": [
    "x = 10 + 2\n",
    "print(x, type(x))"
   ]
  },
  {
   "cell_type": "code",
   "execution_count": 2,
   "id": "6f7234ba",
   "metadata": {},
   "outputs": [
    {
     "name": "stdout",
     "output_type": "stream",
     "text": [
      "20 <class 'int'>\n"
     ]
    }
   ],
   "source": [
    "x = 10 * 2\n",
    "print(x, type(x))"
   ]
  },
  {
   "cell_type": "code",
   "execution_count": 3,
   "id": "9d75415b",
   "metadata": {},
   "outputs": [
    {
     "name": "stdout",
     "output_type": "stream",
     "text": [
      "5.0 <class 'float'>\n"
     ]
    }
   ],
   "source": [
    "x = 10 / 2\n",
    "print(x, type(x))"
   ]
  },
  {
   "cell_type": "markdown",
   "id": "483525f9",
   "metadata": {},
   "source": [
    "# Partea intreaga de la impartire"
   ]
  },
  {
   "cell_type": "code",
   "execution_count": 4,
   "id": "547bd445",
   "metadata": {},
   "outputs": [
    {
     "name": "stdout",
     "output_type": "stream",
     "text": [
      "5 <class 'int'>\n"
     ]
    }
   ],
   "source": [
    "x = 10 // 2\n",
    "print(x, type(x))"
   ]
  },
  {
   "cell_type": "code",
   "execution_count": 5,
   "id": "54593a4b",
   "metadata": {},
   "outputs": [
    {
     "name": "stdout",
     "output_type": "stream",
     "text": [
      "5 <class 'int'>\n"
     ]
    }
   ],
   "source": [
    "x = 11 // 2\n",
    "print(x, type(x))"
   ]
  },
  {
   "cell_type": "code",
   "execution_count": 6,
   "id": "1ded328d",
   "metadata": {},
   "outputs": [
    {
     "name": "stdout",
     "output_type": "stream",
     "text": [
      "5.5 <class 'float'>\n"
     ]
    }
   ],
   "source": [
    "x = 11 / 2\n",
    "print(x, type(x))"
   ]
  },
  {
   "cell_type": "code",
   "execution_count": 7,
   "id": "532164b5",
   "metadata": {},
   "outputs": [
    {
     "name": "stdout",
     "output_type": "stream",
     "text": [
      "5.666666666666667 <class 'float'>\n"
     ]
    }
   ],
   "source": [
    "x = 17 / 3\n",
    "print(x, type(x))"
   ]
  },
  {
   "cell_type": "code",
   "execution_count": 8,
   "id": "a6e9909b",
   "metadata": {},
   "outputs": [
    {
     "name": "stdout",
     "output_type": "stream",
     "text": [
      "5 <class 'int'>\n"
     ]
    }
   ],
   "source": [
    "x = 17 // 3\n",
    "print(x, type(x))"
   ]
  },
  {
   "cell_type": "markdown",
   "id": "8ccbfa43",
   "metadata": {},
   "source": [
    "# Restul impartirii"
   ]
  },
  {
   "cell_type": "code",
   "execution_count": 9,
   "id": "c7791ffa",
   "metadata": {},
   "outputs": [
    {
     "name": "stdout",
     "output_type": "stream",
     "text": [
      "2 <class 'int'>\n"
     ]
    }
   ],
   "source": [
    "x = 17 % 3\n",
    "print(x, type(x))"
   ]
  },
  {
   "cell_type": "code",
   "execution_count": 10,
   "id": "18eb6b63",
   "metadata": {},
   "outputs": [
    {
     "name": "stdout",
     "output_type": "stream",
     "text": [
      "10000 <class 'int'>\n"
     ]
    }
   ],
   "source": [
    "x = 10 ** 4\n",
    "print(x, type(x))"
   ]
  },
  {
   "cell_type": "code",
   "execution_count": 12,
   "id": "1b1c7604",
   "metadata": {},
   "outputs": [
    {
     "name": "stdout",
     "output_type": "stream",
     "text": [
      "10 <class 'int'>\n",
      "10.3 <class 'float'>\n"
     ]
    }
   ],
   "source": [
    "x = 10\n",
    "print(x, type(x))\n",
    "y = 10.3\n",
    "print(y, type(y))"
   ]
  },
  {
   "cell_type": "code",
   "execution_count": 13,
   "id": "37725c9a",
   "metadata": {},
   "outputs": [
    {
     "name": "stdout",
     "output_type": "stream",
     "text": [
      "20.3 <class 'float'>\n"
     ]
    }
   ],
   "source": [
    "x = 10\n",
    "y = 10.3\n",
    "\n",
    "suma = x + y\n",
    "print(suma, type(suma))"
   ]
  },
  {
   "cell_type": "code",
   "execution_count": 15,
   "id": "4f79d389",
   "metadata": {},
   "outputs": [
    {
     "name": "stdout",
     "output_type": "stream",
     "text": [
      "11.3 <class 'float'>\n"
     ]
    }
   ],
   "source": [
    "x = True # boolean: True = 1 si False = 0 \n",
    "y = 10.3\n",
    "\n",
    "suma = x + y\n",
    "print(suma, type(suma))"
   ]
  },
  {
   "cell_type": "code",
   "execution_count": 16,
   "id": "a37d7377",
   "metadata": {},
   "outputs": [
    {
     "ename": "TypeError",
     "evalue": "can only concatenate str (not \"float\") to str",
     "output_type": "error",
     "traceback": [
      "\u001b[31m---------------------------------------------------------------------------\u001b[39m",
      "\u001b[31mTypeError\u001b[39m                                 Traceback (most recent call last)",
      "\u001b[36mCell\u001b[39m\u001b[36m \u001b[39m\u001b[32mIn[16]\u001b[39m\u001b[32m, line 4\u001b[39m\n\u001b[32m      1\u001b[39m x = \u001b[33m\"\u001b[39m\u001b[33mSalut\u001b[39m\u001b[33m\"\u001b[39m \u001b[38;5;66;03m# str\u001b[39;00m\n\u001b[32m      2\u001b[39m y = \u001b[32m10.3\u001b[39m\n\u001b[32m----> \u001b[39m\u001b[32m4\u001b[39m suma = \u001b[43mx\u001b[49m\u001b[43m \u001b[49m\u001b[43m+\u001b[49m\u001b[43m \u001b[49m\u001b[43my\u001b[49m\n\u001b[32m      5\u001b[39m \u001b[38;5;28mprint\u001b[39m(suma, \u001b[38;5;28mtype\u001b[39m(suma))\n",
      "\u001b[31mTypeError\u001b[39m: can only concatenate str (not \"float\") to str"
     ]
    }
   ],
   "source": [
    "x = \"Salut\" # str\n",
    "y = 10.3\n",
    "\n",
    "suma = x + y\n",
    "print(suma, type(suma))"
   ]
  },
  {
   "cell_type": "code",
   "execution_count": 18,
   "id": "448594f3",
   "metadata": {},
   "outputs": [
    {
     "name": "stdout",
     "output_type": "stream",
     "text": [
      "Salut10.3 <class 'str'>\n"
     ]
    }
   ],
   "source": [
    "x = \"Salut\" # str\n",
    "y = \"10.3\"\n",
    "\n",
    "suma = x + y # concatenare\n",
    "print(suma, type(suma))"
   ]
  },
  {
   "cell_type": "code",
   "execution_count": 19,
   "id": "d876b46d",
   "metadata": {},
   "outputs": [
    {
     "name": "stdout",
     "output_type": "stream",
     "text": [
      "Salut10.3 <class 'str'>\n"
     ]
    }
   ],
   "source": [
    "x = \"Salut\" # str\n",
    "y = '10.3'\n",
    "\n",
    "suma = x + y # concatenare\n",
    "print(suma, type(suma))"
   ]
  },
  {
   "cell_type": "code",
   "execution_count": 22,
   "id": "d313793a",
   "metadata": {},
   "outputs": [
    {
     "name": "stdout",
     "output_type": "stream",
     "text": [
      "SalutSalutSalutSalutSalutSalut <class 'str'>\n"
     ]
    }
   ],
   "source": [
    "x = \"Salut\" # str\n",
    "y = 6\n",
    "\n",
    "suma = x * y # concatenare\n",
    "print(suma, type(suma))"
   ]
  },
  {
   "cell_type": "code",
   "execution_count": null,
   "id": "b68b5b2a",
   "metadata": {},
   "outputs": [],
   "source": []
  }
 ],
 "metadata": {
  "kernelspec": {
   "display_name": "Python 3",
   "language": "python",
   "name": "python3"
  },
  "language_info": {
   "codemirror_mode": {
    "name": "ipython",
    "version": 3
   },
   "file_extension": ".py",
   "mimetype": "text/x-python",
   "name": "python",
   "nbconvert_exporter": "python",
   "pygments_lexer": "ipython3",
   "version": "3.13.3"
  }
 },
 "nbformat": 4,
 "nbformat_minor": 5
}
